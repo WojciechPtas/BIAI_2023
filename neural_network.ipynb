{
 "cells": [
  {
   "cell_type": "code",
   "execution_count": 1,
   "metadata": {},
   "outputs": [],
   "source": [
    "import tensorflow as tf\n",
    "import numpy as np\n",
    "import matplotlib.pyplot as plt\n",
    "import pandas as pd\n",
    "from sklearn.model_selection import train_test_split\n"
   ]
  },
  {
   "cell_type": "code",
   "execution_count": 2,
   "metadata": {},
   "outputs": [
    {
     "data": {
      "text/html": [
       "<div>\n",
       "<style scoped>\n",
       "    .dataframe tbody tr th:only-of-type {\n",
       "        vertical-align: middle;\n",
       "    }\n",
       "\n",
       "    .dataframe tbody tr th {\n",
       "        vertical-align: top;\n",
       "    }\n",
       "\n",
       "    .dataframe thead th {\n",
       "        text-align: right;\n",
       "    }\n",
       "</style>\n",
       "<table border=\"1\" class=\"dataframe\">\n",
       "  <thead>\n",
       "    <tr style=\"text-align: right;\">\n",
       "      <th></th>\n",
       "      <th>one</th>\n",
       "      <th>two</th>\n",
       "    </tr>\n",
       "  </thead>\n",
       "  <tbody>\n",
       "    <tr>\n",
       "      <th>0</th>\n",
       "      <td>1.0</td>\n",
       "      <td>1.523970</td>\n",
       "    </tr>\n",
       "    <tr>\n",
       "      <th>1</th>\n",
       "      <td>2.0</td>\n",
       "      <td>4.174553</td>\n",
       "    </tr>\n",
       "    <tr>\n",
       "      <th>2</th>\n",
       "      <td>3.0</td>\n",
       "      <td>3.907327</td>\n",
       "    </tr>\n",
       "    <tr>\n",
       "      <th>3</th>\n",
       "      <td>4.0</td>\n",
       "      <td>4.023301</td>\n",
       "    </tr>\n",
       "    <tr>\n",
       "      <th>4</th>\n",
       "      <td>5.0</td>\n",
       "      <td>6.394509</td>\n",
       "    </tr>\n",
       "  </tbody>\n",
       "</table>\n",
       "</div>"
      ],
      "text/plain": [
       "   one       two\n",
       "0  1.0  1.523970\n",
       "1  2.0  4.174553\n",
       "2  3.0  3.907327\n",
       "3  4.0  4.023301\n",
       "4  5.0  6.394509"
      ]
     },
     "execution_count": 2,
     "metadata": {},
     "output_type": "execute_result"
    }
   ],
   "source": [
    "data = pd.read_csv('data.csv')\n",
    "data_X = data.iloc[:,0].values\n",
    "data_y = data.iloc[:,1].values\n",
    "\n",
    "data.head()"
   ]
  },
  {
   "cell_type": "code",
   "execution_count": 3,
   "metadata": {},
   "outputs": [],
   "source": [
    "X_train, X_test, y_train, y_test = train_test_split(data_X, data_y, test_size=0.2, random_state=42)"
   ]
  },
  {
   "cell_type": "code",
   "execution_count": 4,
   "metadata": {},
   "outputs": [],
   "source": [
    "batch_sizes=[2**x for x in range(6)]\n",
    "middle_layer_sizes=[x for x in range(4,40,4)]"
   ]
  },
  {
   "cell_type": "code",
   "execution_count": 5,
   "metadata": {},
   "outputs": [
    {
     "name": "stdout",
     "output_type": "stream",
     "text": [
      "batch_size: 1, middle_layer_size: 4, mse: [1.392942190170288, 1.392942190170288]\n",
      "batch_size: 1, middle_layer_size: 8, mse: [1.3527008295059204, 1.3527008295059204]\n",
      "batch_size: 1, middle_layer_size: 12, mse: [1.4460891485214233, 1.4460891485214233]\n",
      "batch_size: 1, middle_layer_size: 16, mse: [1.5432369709014893, 1.5432369709014893]\n",
      "WARNING:tensorflow:5 out of the last 9 calls to <function Model.make_test_function.<locals>.test_function at 0x000001FCD92CF3A0> triggered tf.function retracing. Tracing is expensive and the excessive number of tracings could be due to (1) creating @tf.function repeatedly in a loop, (2) passing tensors with different shapes, (3) passing Python objects instead of tensors. For (1), please define your @tf.function outside of the loop. For (2), @tf.function has reduce_retracing=True option that can avoid unnecessary retracing. For (3), please refer to https://www.tensorflow.org/guide/function#controlling_retracing and https://www.tensorflow.org/api_docs/python/tf/function for  more details.\n",
      "batch_size: 1, middle_layer_size: 20, mse: [1.4717442989349365, 1.4717442989349365]\n",
      "WARNING:tensorflow:5 out of the last 9 calls to <function Model.make_predict_function.<locals>.predict_function at 0x000001FCD9379280> triggered tf.function retracing. Tracing is expensive and the excessive number of tracings could be due to (1) creating @tf.function repeatedly in a loop, (2) passing tensors with different shapes, (3) passing Python objects instead of tensors. For (1), please define your @tf.function outside of the loop. For (2), @tf.function has reduce_retracing=True option that can avoid unnecessary retracing. For (3), please refer to https://www.tensorflow.org/guide/function#controlling_retracing and https://www.tensorflow.org/api_docs/python/tf/function for  more details.\n",
      "WARNING:tensorflow:6 out of the last 11 calls to <function Model.make_test_function.<locals>.test_function at 0x000001FCD92CFC10> triggered tf.function retracing. Tracing is expensive and the excessive number of tracings could be due to (1) creating @tf.function repeatedly in a loop, (2) passing tensors with different shapes, (3) passing Python objects instead of tensors. For (1), please define your @tf.function outside of the loop. For (2), @tf.function has reduce_retracing=True option that can avoid unnecessary retracing. For (3), please refer to https://www.tensorflow.org/guide/function#controlling_retracing and https://www.tensorflow.org/api_docs/python/tf/function for  more details.\n",
      "batch_size: 1, middle_layer_size: 24, mse: [1.4759762287139893, 1.4759762287139893]\n",
      "WARNING:tensorflow:6 out of the last 11 calls to <function Model.make_predict_function.<locals>.predict_function at 0x000001FCD929BC10> triggered tf.function retracing. Tracing is expensive and the excessive number of tracings could be due to (1) creating @tf.function repeatedly in a loop, (2) passing tensors with different shapes, (3) passing Python objects instead of tensors. For (1), please define your @tf.function outside of the loop. For (2), @tf.function has reduce_retracing=True option that can avoid unnecessary retracing. For (3), please refer to https://www.tensorflow.org/guide/function#controlling_retracing and https://www.tensorflow.org/api_docs/python/tf/function for  more details.\n",
      "batch_size: 1, middle_layer_size: 28, mse: [1.4938514232635498, 1.4938514232635498]\n",
      "batch_size: 1, middle_layer_size: 32, mse: [1.5759598016738892, 1.5759598016738892]\n",
      "batch_size: 1, middle_layer_size: 36, mse: [1.6018400192260742, 1.6018400192260742]\n",
      "batch_size: 2, middle_layer_size: 4, mse: [1.2209882736206055, 1.2209882736206055]\n",
      "batch_size: 2, middle_layer_size: 8, mse: [1.357608437538147, 1.357608437538147]\n",
      "batch_size: 2, middle_layer_size: 12, mse: [1.4263992309570312, 1.4263992309570312]\n",
      "batch_size: 2, middle_layer_size: 16, mse: [1.5402389764785767, 1.5402389764785767]\n",
      "batch_size: 2, middle_layer_size: 20, mse: [1.4359945058822632, 1.4359945058822632]\n",
      "batch_size: 2, middle_layer_size: 24, mse: [1.4917770624160767, 1.4917770624160767]\n",
      "batch_size: 2, middle_layer_size: 28, mse: [1.5050363540649414, 1.5050363540649414]\n",
      "batch_size: 2, middle_layer_size: 32, mse: [1.6109473705291748, 1.6109473705291748]\n",
      "batch_size: 2, middle_layer_size: 36, mse: [1.5797603130340576, 1.5797603130340576]\n",
      "batch_size: 4, middle_layer_size: 4, mse: [1.3694998025894165, 1.3694998025894165]\n",
      "batch_size: 4, middle_layer_size: 8, mse: [1.1684503555297852, 1.1684503555297852]\n",
      "batch_size: 4, middle_layer_size: 12, mse: [1.412792444229126, 1.412792444229126]\n",
      "batch_size: 4, middle_layer_size: 16, mse: [1.4224203824996948, 1.4224203824996948]\n",
      "batch_size: 4, middle_layer_size: 20, mse: [1.4294521808624268, 1.4294521808624268]\n",
      "batch_size: 4, middle_layer_size: 24, mse: [1.5215944051742554, 1.5215944051742554]\n",
      "batch_size: 4, middle_layer_size: 28, mse: [1.520635962486267, 1.520635962486267]\n",
      "batch_size: 4, middle_layer_size: 32, mse: [1.4979500770568848, 1.4979500770568848]\n",
      "batch_size: 4, middle_layer_size: 36, mse: [1.5106892585754395, 1.5106892585754395]\n",
      "batch_size: 8, middle_layer_size: 4, mse: [1.1019277572631836, 1.1019277572631836]\n",
      "batch_size: 8, middle_layer_size: 8, mse: [1.331656575202942, 1.331656575202942]\n",
      "batch_size: 8, middle_layer_size: 12, mse: [1.4572243690490723, 1.4572243690490723]\n",
      "batch_size: 8, middle_layer_size: 16, mse: [1.572422742843628, 1.572422742843628]\n",
      "batch_size: 8, middle_layer_size: 20, mse: [1.568572759628296, 1.568572759628296]\n",
      "batch_size: 8, middle_layer_size: 24, mse: [1.5371358394622803, 1.5371358394622803]\n",
      "batch_size: 8, middle_layer_size: 28, mse: [1.4096448421478271, 1.4096448421478271]\n",
      "batch_size: 8, middle_layer_size: 32, mse: [1.4774723052978516, 1.4774723052978516]\n",
      "batch_size: 8, middle_layer_size: 36, mse: [1.5725938081741333, 1.5725938081741333]\n",
      "batch_size: 16, middle_layer_size: 4, mse: [1.4283335208892822, 1.4283335208892822]\n",
      "batch_size: 16, middle_layer_size: 8, mse: [1.402833104133606, 1.402833104133606]\n",
      "batch_size: 16, middle_layer_size: 12, mse: [1.4403927326202393, 1.4403927326202393]\n",
      "batch_size: 16, middle_layer_size: 16, mse: [1.5129220485687256, 1.5129220485687256]\n",
      "batch_size: 16, middle_layer_size: 20, mse: [1.551074504852295, 1.551074504852295]\n",
      "batch_size: 16, middle_layer_size: 24, mse: [1.558052659034729, 1.558052659034729]\n",
      "batch_size: 16, middle_layer_size: 28, mse: [1.2755054235458374, 1.2755054235458374]\n",
      "batch_size: 16, middle_layer_size: 32, mse: [1.5147125720977783, 1.5147125720977783]\n",
      "batch_size: 16, middle_layer_size: 36, mse: [1.483274221420288, 1.483274221420288]\n",
      "batch_size: 32, middle_layer_size: 4, mse: [1.2223113775253296, 1.2223113775253296]\n",
      "batch_size: 32, middle_layer_size: 8, mse: [1.4067597389221191, 1.4067597389221191]\n",
      "batch_size: 32, middle_layer_size: 12, mse: [1.517676591873169, 1.517676591873169]\n",
      "batch_size: 32, middle_layer_size: 16, mse: [1.2737675905227661, 1.2737675905227661]\n",
      "batch_size: 32, middle_layer_size: 20, mse: [1.5223376750946045, 1.5223376750946045]\n",
      "batch_size: 32, middle_layer_size: 24, mse: [1.5347368717193604, 1.5347368717193604]\n",
      "batch_size: 32, middle_layer_size: 28, mse: [1.5458438396453857, 1.5458438396453857]\n",
      "batch_size: 32, middle_layer_size: 32, mse: [1.5198681354522705, 1.5198681354522705]\n",
      "batch_size: 32, middle_layer_size: 36, mse: [1.5780396461486816, 1.5780396461486816]\n"
     ]
    },
    {
     "data": {
      "image/png": "[encoded data removed]",
      "text/plain": [
       "<Figure size 432x288 with 1 Axes>"
      ]
     },
     "metadata": {
      "needs_background": "light"
     },
     "output_type": "display_data"
    },
    {
     "name": "stdout",
     "output_type": "stream",
     "text": [
      "Best parameters are (8, 4, [1.1019277572631836, 1.1019277572631836])\n"
     ]
    }
   ],
   "source": [
    "prediction=0\n",
    "parameters=[]\n",
    "lowest_mse=1000000\n",
    "best_parameters=None\n",
    "for batch_size in batch_sizes:\n",
    "    for size in middle_layer_sizes:\n",
    "        model = model = tf.keras.Sequential([\n",
    "        tf.keras.layers.Dense(16, activation='linear', input_shape=(1,)),\n",
    "        tf.keras.layers.Dense(size, activation='linear'),\n",
    "        tf.keras.layers.Dense(1)\n",
    "        ])\n",
    "        model.compile(loss=tf.keras.losses.MeanSquaredError(), optimizer=tf.keras.optimizers.Adam(), metrics='mse')\n",
    "        model.fit(X_train, y_train, epochs=30, batch_size=size,verbose=0)\n",
    "        mse = model.evaluate(X_test, y_test, verbose=0)\n",
    "        if mse[0] < lowest_mse:\n",
    "            lowest_mse = mse[0]\n",
    "            best_parameters = (batch_size,size,mse)\n",
    "        parameters.append((batch_size,size,mse))\n",
    "        print(f\"batch_size: {batch_size}, middle_layer_size: {size}, mse: {mse}\")\n",
    "        plt.scatter(X_test, model.predict(X_test,verbose=0), label=f'{prediction}')\n",
    "        prediction+=1\n",
    "plt.scatter(X_test, y_test, label='ground truth')\n",
    "plt.legend()\n",
    "plt.show()\n",
    "print(f\"Best parameters are {best_parameters}\")"
   ]
  },
  {
   "cell_type": "code",
   "execution_count": 6,
   "metadata": {},
   "outputs": [
    {
     "name": "stdout",
     "output_type": "stream",
     "text": [
      "Epoch 1/30\n",
      "160/160 [==============================] - 1s 938us/step - loss: 1821.2893\n",
      "Epoch 2/30\n",
      "160/160 [==============================] - 0s 900us/step - loss: 1.6852\n",
      "Epoch 3/30\n",
      "160/160 [==============================] - 0s 909us/step - loss: 1.7548\n",
      "Epoch 4/30\n",
      "160/160 [==============================] - 0s 1ms/step - loss: 1.6947\n",
      "Epoch 5/30\n",
      "160/160 [==============================] - 0s 900us/step - loss: 1.6284\n",
      "Epoch 6/30\n",
      "160/160 [==============================] - 0s 902us/step - loss: 1.7194\n",
      "Epoch 7/30\n",
      "160/160 [==============================] - 0s 898us/step - loss: 1.5252\n",
      "Epoch 8/30\n",
      "160/160 [==============================] - 0s 888us/step - loss: 1.6858\n",
      "Epoch 9/30\n",
      "160/160 [==============================] - 0s 892us/step - loss: 1.5467\n",
      "Epoch 10/30\n",
      "160/160 [==============================] - 0s 900us/step - loss: 1.7779\n",
      "Epoch 11/30\n",
      "160/160 [==============================] - 0s 881us/step - loss: 1.7211\n",
      "Epoch 12/30\n",
      "160/160 [==============================] - 0s 900us/step - loss: 1.4922\n",
      "Epoch 13/30\n",
      "160/160 [==============================] - 0s 1ms/step - loss: 1.5876\n",
      "Epoch 14/30\n",
      "160/160 [==============================] - 0s 942us/step - loss: 1.8928\n",
      "Epoch 15/30\n",
      "160/160 [==============================] - 0s 906us/step - loss: 1.6250\n",
      "Epoch 16/30\n",
      "160/160 [==============================] - 0s 922us/step - loss: 1.3552\n",
      "Epoch 17/30\n",
      "160/160 [==============================] - 0s 984us/step - loss: 1.3700\n",
      "Epoch 18/30\n",
      "160/160 [==============================] - 0s 916us/step - loss: 1.5313\n",
      "Epoch 19/30\n",
      "160/160 [==============================] - 0s 881us/step - loss: 1.4757\n",
      "Epoch 20/30\n",
      "160/160 [==============================] - 0s 870us/step - loss: 1.4381\n",
      "Epoch 21/30\n",
      "160/160 [==============================] - 0s 875us/step - loss: 1.5732\n",
      "Epoch 22/30\n",
      "160/160 [==============================] - 0s 862us/step - loss: 2.0891\n",
      "Epoch 23/30\n",
      "160/160 [==============================] - 0s 894us/step - loss: 2.1959\n",
      "Epoch 24/30\n",
      "160/160 [==============================] - 0s 875us/step - loss: 2.3171\n",
      "Epoch 25/30\n",
      "160/160 [==============================] - 0s 882us/step - loss: 1.5546\n",
      "Epoch 26/30\n",
      "160/160 [==============================] - 0s 1ms/step - loss: 1.7384\n",
      "Epoch 27/30\n",
      "160/160 [==============================] - 0s 957us/step - loss: 2.8469\n",
      "Epoch 28/30\n",
      "160/160 [==============================] - 0s 919us/step - loss: 3.0851\n",
      "Epoch 29/30\n",
      "160/160 [==============================] - 0s 1ms/step - loss: 3.0124\n",
      "Epoch 30/30\n",
      "160/160 [==============================] - 0s 919us/step - loss: 2.4904\n"
     ]
    },
    {
     "data": {
      "text/plain": [
       "<keras.callbacks.History at 0x1fcd6f80ee0>"
      ]
     },
     "execution_count": 6,
     "metadata": {},
     "output_type": "execute_result"
    }
   ],
   "source": [
    "model = tf.keras.Sequential([\n",
    "    tf.keras.layers.Dense(16, activation='linear', input_shape=(1,)),\n",
    "    tf.keras.layers.Dense(20, activation='linear'),\n",
    "    tf.keras.layers.Dense(1)\n",
    "])\n",
    "\n",
    "model.compile(loss=tf.keras.losses.MeanSquaredError(), optimizer=tf.keras.optimizers.Adam())\n",
    "\n",
    "model.fit(X_train, y_train, epochs=30, batch_size=1)\n"
   ]
  },
  {
   "cell_type": "code",
   "execution_count": 7,
   "metadata": {},
   "outputs": [
    {
     "name": "stdout",
     "output_type": "stream",
     "text": [
      "2/2 [==============================] - 0s 3ms/step - loss: 3.3252\n",
      "Test mse=3.325186252593994\n"
     ]
    }
   ],
   "source": [
    "mse = model.evaluate(X_test, y_test)\n",
    "print(f'Test {mse=}')"
   ]
  }
 ],
 "metadata": {
  "kernelspec": {
   "display_name": "Python 3",
   "language": "python",
   "name": "python3"
  },
  "language_info": {
   "codemirror_mode": {
    "name": "ipython",
    "version": 3
   },
   "file_extension": ".py",
   "mimetype": "text/x-python",
   "name": "python",
   "nbconvert_exporter": "python",
   "pygments_lexer": "ipython3",
   "version": "3.9.0"
  },
  "orig_nbformat": 4
 },
 "nbformat": 4,
 "nbformat_minor": 2
}
