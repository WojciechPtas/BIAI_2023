{
 "cells": [
  {
   "cell_type": "code",
   "execution_count": 449,
   "metadata": {},
   "outputs": [],
   "source": [
    "import tensorflow as tf\n",
    "import numpy as np\n",
    "import pandas as pd\n",
    "from sklearn.model_selection import train_test_split\n"
   ]
  },
  {
   "cell_type": "code",
   "execution_count": 450,
   "metadata": {},
   "outputs": [
    {
     "data": {
      "text/html": [
       "<div>\n",
       "<style scoped>\n",
       "    .dataframe tbody tr th:only-of-type {\n",
       "        vertical-align: middle;\n",
       "    }\n",
       "\n",
       "    .dataframe tbody tr th {\n",
       "        vertical-align: top;\n",
       "    }\n",
       "\n",
       "    .dataframe thead th {\n",
       "        text-align: right;\n",
       "    }\n",
       "</style>\n",
       "<table border=\"1\" class=\"dataframe\">\n",
       "  <thead>\n",
       "    <tr style=\"text-align: right;\">\n",
       "      <th></th>\n",
       "      <th>one</th>\n",
       "      <th>two</th>\n",
       "    </tr>\n",
       "  </thead>\n",
       "  <tbody>\n",
       "    <tr>\n",
       "      <th>0</th>\n",
       "      <td>1.0</td>\n",
       "      <td>1.336431</td>\n",
       "    </tr>\n",
       "    <tr>\n",
       "      <th>1</th>\n",
       "      <td>2.0</td>\n",
       "      <td>4.995345</td>\n",
       "    </tr>\n",
       "    <tr>\n",
       "      <th>2</th>\n",
       "      <td>3.0</td>\n",
       "      <td>5.043316</td>\n",
       "    </tr>\n",
       "    <tr>\n",
       "      <th>3</th>\n",
       "      <td>4.0</td>\n",
       "      <td>7.257684</td>\n",
       "    </tr>\n",
       "    <tr>\n",
       "      <th>4</th>\n",
       "      <td>5.0</td>\n",
       "      <td>6.797201</td>\n",
       "    </tr>\n",
       "  </tbody>\n",
       "</table>\n",
       "</div>"
      ],
      "text/plain": [
       "   one       two\n",
       "0  1.0  1.336431\n",
       "1  2.0  4.995345\n",
       "2  3.0  5.043316\n",
       "3  4.0  7.257684\n",
       "4  5.0  6.797201"
      ]
     },
     "execution_count": 450,
     "metadata": {},
     "output_type": "execute_result"
    }
   ],
   "source": [
    "data = pd.read_csv('data.csv')\n",
    "data_X = data.iloc[:,0].values\n",
    "data_y = data.iloc[:,1].values\n",
    "\n",
    "data.head()"
   ]
  },
  {
   "cell_type": "code",
   "execution_count": 451,
   "metadata": {},
   "outputs": [],
   "source": [
    "X_train, X_test, y_train, y_test = train_test_split(data_X, data_y, test_size=0.2, random_state=42)"
   ]
  },
  {
   "cell_type": "code",
   "execution_count": 452,
   "metadata": {},
   "outputs": [
    {
     "name": "stdout",
     "output_type": "stream",
     "text": [
      "Epoch 1/30\n",
      "160/160 [==============================] - 1s 932us/step - loss: 9136.4082\n",
      "Epoch 2/30\n",
      "160/160 [==============================] - 0s 900us/step - loss: 389.8906\n",
      "Epoch 3/30\n",
      "160/160 [==============================] - 0s 875us/step - loss: 1.2529\n",
      "Epoch 4/30\n",
      "160/160 [==============================] - 0s 869us/step - loss: 1.2654\n",
      "Epoch 5/30\n",
      "160/160 [==============================] - 0s 899us/step - loss: 1.2977\n",
      "Epoch 6/30\n",
      "160/160 [==============================] - 0s 894us/step - loss: 1.2306\n",
      "Epoch 7/30\n",
      "160/160 [==============================] - 0s 900us/step - loss: 1.2603\n",
      "Epoch 8/30\n",
      "160/160 [==============================] - 0s 872us/step - loss: 1.2167\n",
      "Epoch 9/30\n",
      "160/160 [==============================] - 0s 900us/step - loss: 1.3170\n",
      "Epoch 10/30\n",
      "160/160 [==============================] - 0s 888us/step - loss: 1.2412\n",
      "Epoch 11/30\n",
      "160/160 [==============================] - 0s 900us/step - loss: 1.2642\n",
      "Epoch 12/30\n",
      "160/160 [==============================] - 0s 1ms/step - loss: 1.2074\n",
      "Epoch 13/30\n",
      "160/160 [==============================] - 0s 906us/step - loss: 1.2451\n",
      "Epoch 14/30\n",
      "160/160 [==============================] - 0s 881us/step - loss: 1.2711\n",
      "Epoch 15/30\n",
      "160/160 [==============================] - 0s 913us/step - loss: 1.2389\n",
      "Epoch 16/30\n",
      "160/160 [==============================] - 0s 925us/step - loss: 1.2594\n",
      "Epoch 17/30\n",
      "160/160 [==============================] - 0s 894us/step - loss: 1.2665\n",
      "Epoch 18/30\n",
      "160/160 [==============================] - 0s 881us/step - loss: 1.2093\n",
      "Epoch 19/30\n",
      "160/160 [==============================] - 0s 919us/step - loss: 1.1511\n",
      "Epoch 20/30\n",
      "160/160 [==============================] - 0s 900us/step - loss: 1.2199\n",
      "Epoch 21/30\n",
      "160/160 [==============================] - 0s 894us/step - loss: 1.3612\n",
      "Epoch 22/30\n",
      "160/160 [==============================] - 0s 913us/step - loss: 1.3260\n",
      "Epoch 23/30\n",
      "160/160 [==============================] - 0s 875us/step - loss: 1.3473\n",
      "Epoch 24/30\n",
      "160/160 [==============================] - 0s 906us/step - loss: 1.4358\n",
      "Epoch 25/30\n",
      "160/160 [==============================] - 0s 1ms/step - loss: 1.2468\n",
      "Epoch 26/30\n",
      "160/160 [==============================] - 0s 881us/step - loss: 1.3013\n",
      "Epoch 27/30\n",
      "160/160 [==============================] - 0s 932us/step - loss: 1.2788\n",
      "Epoch 28/30\n",
      "160/160 [==============================] - 0s 919us/step - loss: 1.4751\n",
      "Epoch 29/30\n",
      "160/160 [==============================] - 0s 906us/step - loss: 1.2468\n",
      "Epoch 30/30\n",
      "160/160 [==============================] - 0s 888us/step - loss: 1.3867\n"
     ]
    },
    {
     "data": {
      "text/plain": [
       "<keras.callbacks.History at 0x14e8a250040>"
      ]
     },
     "execution_count": 452,
     "metadata": {},
     "output_type": "execute_result"
    }
   ],
   "source": [
    "model = tf.keras.Sequential([\n",
    "    tf.keras.layers.Dense(16, activation='linear', input_shape=(1,)),\n",
    "    tf.keras.layers.Dense(20, activation='linear'),\n",
    "    tf.keras.layers.Dense(1)\n",
    "])\n",
    "\n",
    "model.compile(loss=tf.keras.losses.MeanSquaredError(), optimizer=tf.keras.optimizers.Adam())\n",
    "\n",
    "model.fit(X_train, y_train, epochs=30, batch_size=1)\n"
   ]
  },
  {
   "cell_type": "code",
   "execution_count": 453,
   "metadata": {},
   "outputs": [
    {
     "name": "stdout",
     "output_type": "stream",
     "text": [
      "2/2 [==============================] - 0s 2ms/step - loss: 2.1103\n",
      "Test mse=2.110267162322998\n"
     ]
    }
   ],
   "source": [
    "mse = model.evaluate(X_test, y_test)\n",
    "print(f'Test {mse=}')"
   ]
  }
 ],
 "metadata": {
  "kernelspec": {
   "display_name": "Python 3",
   "language": "python",
   "name": "python3"
  },
  "language_info": {
   "codemirror_mode": {
    "name": "ipython",
    "version": 3
   },
   "file_extension": ".py",
   "mimetype": "text/x-python",
   "name": "python",
   "nbconvert_exporter": "python",
   "pygments_lexer": "ipython3",
   "version": "3.9.0"
  },
  "orig_nbformat": 4
 },
 "nbformat": 4,
 "nbformat_minor": 2
}
