{
 "cells": [
  {
   "cell_type": "code",
   "execution_count": 100,
   "metadata": {},
   "outputs": [],
   "source": [
    "import tensorflow as tf\n",
    "import numpy as np\n",
    "import pandas as pd\n",
    "from sklearn.model_selection import train_test_split\n"
   ]
  },
  {
   "cell_type": "code",
   "execution_count": 101,
   "metadata": {},
   "outputs": [
    {
     "data": {
      "text/html": [
       "<div>\n",
       "<style scoped>\n",
       "    .dataframe tbody tr th:only-of-type {\n",
       "        vertical-align: middle;\n",
       "    }\n",
       "\n",
       "    .dataframe tbody tr th {\n",
       "        vertical-align: top;\n",
       "    }\n",
       "\n",
       "    .dataframe thead th {\n",
       "        text-align: right;\n",
       "    }\n",
       "</style>\n",
       "<table border=\"1\" class=\"dataframe\">\n",
       "  <thead>\n",
       "    <tr style=\"text-align: right;\">\n",
       "      <th></th>\n",
       "      <th>one</th>\n",
       "      <th>two</th>\n",
       "    </tr>\n",
       "  </thead>\n",
       "  <tbody>\n",
       "    <tr>\n",
       "      <th>0</th>\n",
       "      <td>1.0</td>\n",
       "      <td>4.043660</td>\n",
       "    </tr>\n",
       "    <tr>\n",
       "      <th>1</th>\n",
       "      <td>2.0</td>\n",
       "      <td>4.221302</td>\n",
       "    </tr>\n",
       "    <tr>\n",
       "      <th>2</th>\n",
       "      <td>3.0</td>\n",
       "      <td>6.327936</td>\n",
       "    </tr>\n",
       "    <tr>\n",
       "      <th>3</th>\n",
       "      <td>4.0</td>\n",
       "      <td>5.536403</td>\n",
       "    </tr>\n",
       "    <tr>\n",
       "      <th>4</th>\n",
       "      <td>5.0</td>\n",
       "      <td>6.504892</td>\n",
       "    </tr>\n",
       "  </tbody>\n",
       "</table>\n",
       "</div>"
      ],
      "text/plain": [
       "   one       two\n",
       "0  1.0  4.043660\n",
       "1  2.0  4.221302\n",
       "2  3.0  6.327936\n",
       "3  4.0  5.536403\n",
       "4  5.0  6.504892"
      ]
     },
     "execution_count": 101,
     "metadata": {},
     "output_type": "execute_result"
    }
   ],
   "source": [
    "data = pd.read_csv('data.csv')\n",
    "data_X = data.iloc[:,0].values\n",
    "data_y = data.iloc[:,1].values\n",
    "\n",
    "data.head()"
   ]
  },
  {
   "cell_type": "code",
   "execution_count": 102,
   "metadata": {},
   "outputs": [],
   "source": [
    "X_train, X_test, y_train, y_test = train_test_split(data_X, data_y, test_size=0.2, random_state=42)"
   ]
  },
  {
   "cell_type": "code",
   "execution_count": 103,
   "metadata": {},
   "outputs": [
    {
     "name": "stdout",
     "output_type": "stream",
     "text": [
      "Epoch 1/50\n",
      "5/5 [==============================] - 0s 2ms/step - loss: 9084.3691\n",
      "Epoch 2/50\n",
      "5/5 [==============================] - 0s 2ms/step - loss: 7318.9858\n",
      "Epoch 3/50\n",
      "5/5 [==============================] - 0s 2ms/step - loss: 5783.6206\n",
      "Epoch 4/50\n",
      "5/5 [==============================] - 0s 2ms/step - loss: 4529.7944\n",
      "Epoch 5/50\n",
      "5/5 [==============================] - 0s 2ms/step - loss: 3486.3911\n",
      "Epoch 6/50\n",
      "5/5 [==============================] - 0s 2ms/step - loss: 2574.0730\n",
      "Epoch 7/50\n",
      "5/5 [==============================] - 0s 2ms/step - loss: 1834.6096\n",
      "Epoch 8/50\n",
      "5/5 [==============================] - 0s 2ms/step - loss: 1232.1752\n",
      "Epoch 9/50\n",
      "5/5 [==============================] - 0s 2ms/step - loss: 796.0424\n",
      "Epoch 10/50\n",
      "5/5 [==============================] - 0s 2ms/step - loss: 455.3125\n",
      "Epoch 11/50\n",
      "5/5 [==============================] - 0s 2ms/step - loss: 241.3517\n",
      "Epoch 12/50\n",
      "5/5 [==============================] - 0s 2ms/step - loss: 108.5813\n",
      "Epoch 13/50\n",
      "5/5 [==============================] - 0s 2ms/step - loss: 40.1999\n",
      "Epoch 14/50\n",
      "5/5 [==============================] - 0s 2ms/step - loss: 10.1121\n",
      "Epoch 15/50\n",
      "5/5 [==============================] - 0s 2ms/step - loss: 2.2984\n",
      "Epoch 16/50\n",
      "5/5 [==============================] - 0s 2ms/step - loss: 4.4108\n",
      "Epoch 17/50\n",
      "5/5 [==============================] - 0s 2ms/step - loss: 3.7505\n",
      "Epoch 18/50\n",
      "5/5 [==============================] - 0s 4ms/step - loss: 3.7070\n",
      "Epoch 19/50\n",
      "5/5 [==============================] - 0s 3ms/step - loss: 3.5630\n",
      "Epoch 20/50\n",
      "5/5 [==============================] - 0s 2ms/step - loss: 3.0795\n",
      "Epoch 21/50\n",
      "5/5 [==============================] - 0s 2ms/step - loss: 2.5495\n",
      "Epoch 22/50\n",
      "5/5 [==============================] - 0s 2ms/step - loss: 2.1229\n",
      "Epoch 23/50\n",
      "5/5 [==============================] - 0s 5ms/step - loss: 1.8834\n",
      "Epoch 24/50\n",
      "5/5 [==============================] - 0s 4ms/step - loss: 1.7764\n",
      "Epoch 25/50\n",
      "5/5 [==============================] - 0s 2ms/step - loss: 1.7215\n",
      "Epoch 26/50\n",
      "5/5 [==============================] - 0s 3ms/step - loss: 1.7136\n",
      "Epoch 27/50\n",
      "5/5 [==============================] - 0s 2ms/step - loss: 1.7188\n",
      "Epoch 28/50\n",
      "5/5 [==============================] - 0s 2ms/step - loss: 1.7257\n",
      "Epoch 29/50\n",
      "5/5 [==============================] - 0s 2ms/step - loss: 1.7230\n",
      "Epoch 30/50\n",
      "5/5 [==============================] - 0s 2ms/step - loss: 1.7181\n",
      "Epoch 31/50\n",
      "5/5 [==============================] - 0s 2ms/step - loss: 1.7142\n",
      "Epoch 32/50\n",
      "5/5 [==============================] - 0s 2ms/step - loss: 1.7113\n",
      "Epoch 33/50\n",
      "5/5 [==============================] - 0s 2ms/step - loss: 1.7106\n",
      "Epoch 34/50\n",
      "5/5 [==============================] - 0s 2ms/step - loss: 1.7090\n",
      "Epoch 35/50\n",
      "5/5 [==============================] - 0s 2ms/step - loss: 1.7099\n",
      "Epoch 36/50\n",
      "5/5 [==============================] - 0s 2ms/step - loss: 1.7078\n",
      "Epoch 37/50\n",
      "5/5 [==============================] - 0s 2ms/step - loss: 1.7071\n",
      "Epoch 38/50\n",
      "5/5 [==============================] - 0s 2ms/step - loss: 1.7059\n",
      "Epoch 39/50\n",
      "5/5 [==============================] - 0s 2ms/step - loss: 1.7055\n",
      "Epoch 40/50\n",
      "5/5 [==============================] - 0s 2ms/step - loss: 1.7050\n",
      "Epoch 41/50\n",
      "5/5 [==============================] - 0s 2ms/step - loss: 1.7044\n",
      "Epoch 42/50\n",
      "5/5 [==============================] - 0s 2ms/step - loss: 1.7031\n",
      "Epoch 43/50\n",
      "5/5 [==============================] - 0s 3ms/step - loss: 1.7023\n",
      "Epoch 44/50\n",
      "5/5 [==============================] - 0s 4ms/step - loss: 1.7017\n",
      "Epoch 45/50\n",
      "5/5 [==============================] - 0s 3ms/step - loss: 1.7011\n",
      "Epoch 46/50\n",
      "5/5 [==============================] - 0s 2ms/step - loss: 1.7015\n",
      "Epoch 47/50\n",
      "5/5 [==============================] - 0s 3ms/step - loss: 1.6994\n",
      "Epoch 48/50\n",
      "5/5 [==============================] - 0s 2ms/step - loss: 1.6987\n",
      "Epoch 49/50\n",
      "5/5 [==============================] - 0s 2ms/step - loss: 1.6979\n",
      "Epoch 50/50\n",
      "5/5 [==============================] - 0s 2ms/step - loss: 1.6995\n"
     ]
    },
    {
     "data": {
      "text/plain": [
       "<keras.callbacks.History at 0x14edc3daa60>"
      ]
     },
     "execution_count": 103,
     "metadata": {},
     "output_type": "execute_result"
    }
   ],
   "source": [
    "model = tf.keras.Sequential([\n",
    "    tf.keras.layers.Dense(16, activation='relu', input_shape=(1,)),\n",
    "    tf.keras.layers.Dense(16, activation='relu'),\n",
    "    tf.keras.layers.Dense(1)\n",
    "])\n",
    "\n",
    "model.compile(loss=tf.keras.losses.MeanSquaredError(), optimizer=tf.keras.optimizers.Adam())\n",
    "\n",
    "model.fit(X_train, y_train, epochs=50, batch_size=16)\n"
   ]
  },
  {
   "cell_type": "code",
   "execution_count": 104,
   "metadata": {},
   "outputs": [
    {
     "name": "stdout",
     "output_type": "stream",
     "text": [
      "2/2 [==============================] - 0s 3ms/step - loss: 1.6689\n",
      "Test mse: 1.6689212322235107\n"
     ]
    }
   ],
   "source": [
    "mse = model.evaluate(X_test, y_test)\n",
    "print('Test mse:', mse)"
   ]
  }
 ],
 "metadata": {
  "kernelspec": {
   "display_name": "Python 3",
   "language": "python",
   "name": "python3"
  },
  "language_info": {
   "codemirror_mode": {
    "name": "ipython",
    "version": 3
   },
   "file_extension": ".py",
   "mimetype": "text/x-python",
   "name": "python",
   "nbconvert_exporter": "python",
   "pygments_lexer": "ipython3",
   "version": "3.9.0"
  },
  "orig_nbformat": 4
 },
 "nbformat": 4,
 "nbformat_minor": 2
}
