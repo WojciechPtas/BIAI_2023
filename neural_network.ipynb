{
 "cells": [
  {
   "cell_type": "code",
   "execution_count": 14,
   "metadata": {},
   "outputs": [],
   "source": [
    "import tensorflow as tf\n",
    "import numpy as np\n",
    "import matplotlib.pyplot as plt\n",
    "import pandas as pd\n",
    "from sklearn.model_selection import train_test_split\n"
   ]
  },
  {
   "cell_type": "code",
   "execution_count": 15,
   "metadata": {},
   "outputs": [
    {
     "data": {
      "text/html": [
       "<div>\n",
       "<style scoped>\n",
       "    .dataframe tbody tr th:only-of-type {\n",
       "        vertical-align: middle;\n",
       "    }\n",
       "\n",
       "    .dataframe tbody tr th {\n",
       "        vertical-align: top;\n",
       "    }\n",
       "\n",
       "    .dataframe thead th {\n",
       "        text-align: right;\n",
       "    }\n",
       "</style>\n",
       "<table border=\"1\" class=\"dataframe\">\n",
       "  <thead>\n",
       "    <tr style=\"text-align: right;\">\n",
       "      <th></th>\n",
       "      <th>one</th>\n",
       "      <th>two</th>\n",
       "    </tr>\n",
       "  </thead>\n",
       "  <tbody>\n",
       "    <tr>\n",
       "      <th>0</th>\n",
       "      <td>1.0</td>\n",
       "      <td>1.523970</td>\n",
       "    </tr>\n",
       "    <tr>\n",
       "      <th>1</th>\n",
       "      <td>2.0</td>\n",
       "      <td>4.174553</td>\n",
       "    </tr>\n",
       "    <tr>\n",
       "      <th>2</th>\n",
       "      <td>3.0</td>\n",
       "      <td>3.907327</td>\n",
       "    </tr>\n",
       "    <tr>\n",
       "      <th>3</th>\n",
       "      <td>4.0</td>\n",
       "      <td>4.023301</td>\n",
       "    </tr>\n",
       "    <tr>\n",
       "      <th>4</th>\n",
       "      <td>5.0</td>\n",
       "      <td>6.394509</td>\n",
       "    </tr>\n",
       "  </tbody>\n",
       "</table>\n",
       "</div>"
      ],
      "text/plain": [
       "   one       two\n",
       "0  1.0  1.523970\n",
       "1  2.0  4.174553\n",
       "2  3.0  3.907327\n",
       "3  4.0  4.023301\n",
       "4  5.0  6.394509"
      ]
     },
     "execution_count": 15,
     "metadata": {},
     "output_type": "execute_result"
    }
   ],
   "source": [
    "data = pd.read_csv('data.csv')\n",
    "data_X = data.iloc[:,0].values\n",
    "data_y = data.iloc[:,1].values\n",
    "\n",
    "data.head()"
   ]
  },
  {
   "cell_type": "code",
   "execution_count": 16,
   "metadata": {},
   "outputs": [],
   "source": [
    "X_train, X_test, y_train, y_test = train_test_split(data_X, data_y, test_size=0.2, random_state=42)"
   ]
  },
  {
   "cell_type": "code",
   "execution_count": 17,
   "metadata": {},
   "outputs": [],
   "source": [
    "batch_sizes=[2**x for x in range(6)]\n",
    "middle_layer_sizes=[x for x in range(4,40,4)]"
   ]
  },
  {
   "cell_type": "code",
   "execution_count": 18,
   "metadata": {},
   "outputs": [
    {
     "name": "stdout",
     "output_type": "stream",
     "text": [
      "batch_size: 1, middle_layer_size: 4, mse: [1.3297525644302368, 1.3297525644302368]\n"
     ]
    },
    {
     "ename": "TypeError",
     "evalue": "'<' not supported between instances of 'float' and 'list'",
     "output_type": "error",
     "traceback": [
      "\u001b[1;31m---------------------------------------------------------------------------\u001b[0m",
      "\u001b[1;31mTypeError\u001b[0m                                 Traceback (most recent call last)",
      "Cell \u001b[1;32mIn[18], line 15\u001b[0m\n\u001b[0;32m     13\u001b[0m model\u001b[39m.\u001b[39mfit(X_train, y_train, epochs\u001b[39m=\u001b[39m\u001b[39m30\u001b[39m, batch_size\u001b[39m=\u001b[39msize,verbose\u001b[39m=\u001b[39m\u001b[39m0\u001b[39m)\n\u001b[0;32m     14\u001b[0m mse \u001b[39m=\u001b[39m model\u001b[39m.\u001b[39mevaluate(X_test, y_test, verbose\u001b[39m=\u001b[39m\u001b[39m0\u001b[39m)\n\u001b[1;32m---> 15\u001b[0m \u001b[39mif\u001b[39;00m mse[\u001b[39m0\u001b[39;49m] \u001b[39m<\u001b[39;49m lowest_mse:\n\u001b[0;32m     16\u001b[0m     lowest_mse \u001b[39m=\u001b[39m mse\n\u001b[0;32m     17\u001b[0m     best_parameters \u001b[39m=\u001b[39m (batch_size,size,mse)\n",
      "\u001b[1;31mTypeError\u001b[0m: '<' not supported between instances of 'float' and 'list'"
     ]
    },
    {
     "data": {
      "image/png": "[encoded data removed]",
      "text/plain": [
       "<Figure size 640x480 with 1 Axes>"
      ]
     },
     "metadata": {},
     "output_type": "display_data"
    }
   ],
   "source": [
    "prediction=0\n",
    "parameters=[]\n",
    "lowest_mse=1000000\n",
    "best_parameters=None\n",
    "for batch_size in batch_sizes:\n",
    "    for size in middle_layer_sizes:\n",
    "        model = model = tf.keras.Sequential([\n",
    "        tf.keras.layers.Dense(16, activation='linear', input_shape=(1,)),\n",
    "        tf.keras.layers.Dense(size, activation='linear'),\n",
    "        tf.keras.layers.Dense(1)\n",
    "        ])\n",
    "        model.compile(loss=tf.keras.losses.MeanSquaredError(), optimizer=tf.keras.optimizers.Adam(), metrics='mse')\n",
    "        model.fit(X_train, y_train, epochs=30, batch_size=size,verbose=0)\n",
    "        mse = model.evaluate(X_test, y_test, verbose=0)\n",
    "        if mse[0] < lowest_mse:\n",
    "            lowest_mse = mse[0]\n",
    "            best_parameters = (batch_size,size,mse)\n",
    "        parameters.append((batch_size,size,mse))\n",
    "        print(f\"batch_size: {batch_size}, middle_layer_size: {size}, mse: {mse}\")\n",
    "        plt.scatter(X_test, model.predict(X_test,verbose=0), label=f'{prediction}')\n",
    "        prediction+=1\n",
    "plt.scatter(X_test, y_test, label='ground truth')\n",
    "plt.legend()\n",
    "plt.show()\n",
    "print(f\"Best parameters are {best_parameters}\")"
   ]
  },
  {
   "cell_type": "code",
   "execution_count": 8,
   "metadata": {},
   "outputs": [
    {
     "name": "stdout",
     "output_type": "stream",
     "text": [
      "Epoch 1/30\n",
      "160/160 [==============================] - 1s 1ms/step - loss: 816.6088\n",
      "Epoch 2/30\n",
      "160/160 [==============================] - 0s 976us/step - loss: 1.8192\n",
      "Epoch 3/30\n",
      "160/160 [==============================] - 0s 983us/step - loss: 1.8989\n",
      "Epoch 4/30\n",
      "160/160 [==============================] - 0s 976us/step - loss: 1.9159\n",
      "Epoch 5/30\n",
      "160/160 [==============================] - 0s 1ms/step - loss: 1.8279\n",
      "Epoch 6/30\n",
      "160/160 [==============================] - 0s 1ms/step - loss: 2.0357\n",
      "Epoch 7/30\n",
      "160/160 [==============================] - 0s 1ms/step - loss: 2.0514\n",
      "Epoch 8/30\n",
      "160/160 [==============================] - 0s 1ms/step - loss: 1.8491\n",
      "Epoch 9/30\n",
      "160/160 [==============================] - 0s 994us/step - loss: 1.9080\n",
      "Epoch 10/30\n",
      "160/160 [==============================] - 0s 989us/step - loss: 1.9846\n",
      "Epoch 11/30\n",
      "160/160 [==============================] - 0s 985us/step - loss: 1.7190\n",
      "Epoch 12/30\n",
      "160/160 [==============================] - 0s 977us/step - loss: 1.8414\n",
      "Epoch 13/30\n",
      "160/160 [==============================] - 0s 991us/step - loss: 1.5373\n",
      "Epoch 14/30\n",
      "160/160 [==============================] - 0s 995us/step - loss: 2.6552\n",
      "Epoch 15/30\n",
      "160/160 [==============================] - 0s 987us/step - loss: 2.0277\n",
      "Epoch 16/30\n",
      "160/160 [==============================] - 0s 969us/step - loss: 1.9833\n",
      "Epoch 17/30\n",
      "160/160 [==============================] - 0s 972us/step - loss: 2.6327\n",
      "Epoch 18/30\n",
      "160/160 [==============================] - 0s 999us/step - loss: 2.1944\n",
      "Epoch 19/30\n",
      "160/160 [==============================] - 0s 1ms/step - loss: 2.2764\n",
      "Epoch 20/30\n",
      "160/160 [==============================] - 0s 980us/step - loss: 2.0879\n",
      "Epoch 21/30\n",
      "160/160 [==============================] - 0s 1ms/step - loss: 3.2749\n",
      "Epoch 22/30\n",
      "160/160 [==============================] - 0s 996us/step - loss: 1.4679\n",
      "Epoch 23/30\n",
      "160/160 [==============================] - 0s 975us/step - loss: 2.5448\n",
      "Epoch 24/30\n",
      "160/160 [==============================] - 0s 998us/step - loss: 2.6001\n",
      "Epoch 25/30\n",
      "160/160 [==============================] - 0s 997us/step - loss: 3.2328\n",
      "Epoch 26/30\n",
      "160/160 [==============================] - 0s 985us/step - loss: 2.8527\n",
      "Epoch 27/30\n",
      "160/160 [==============================] - 0s 998us/step - loss: 4.5871\n",
      "Epoch 28/30\n",
      "160/160 [==============================] - 0s 991us/step - loss: 2.7942\n",
      "Epoch 29/30\n",
      "160/160 [==============================] - 0s 989us/step - loss: 3.1733\n",
      "Epoch 30/30\n",
      "160/160 [==============================] - 0s 1ms/step - loss: 3.2602\n"
     ]
    },
    {
     "data": {
      "text/plain": [
       "<keras.callbacks.History at 0x1eb861bbb10>"
      ]
     },
     "execution_count": 8,
     "metadata": {},
     "output_type": "execute_result"
    }
   ],
   "source": [
    "model = tf.keras.Sequential([\n",
    "    tf.keras.layers.Dense(16, activation='linear', input_shape=(1,)),\n",
    "    tf.keras.layers.Dense(20, activation='linear'),\n",
    "    tf.keras.layers.Dense(1)\n",
    "])\n",
    "\n",
    "model.compile(loss=tf.keras.losses.MeanSquaredError(), optimizer=tf.keras.optimizers.Adam())\n",
    "\n",
    "model.fit(X_train, y_train, epochs=30, batch_size=1)\n"
   ]
  },
  {
   "cell_type": "code",
   "execution_count": 9,
   "metadata": {},
   "outputs": [
    {
     "name": "stdout",
     "output_type": "stream",
     "text": [
      "2/2 [==============================] - 0s 2ms/step - loss: 1.6732\n",
      "Test mse=1.673240303993225\n"
     ]
    }
   ],
   "source": [
    "mse = model.evaluate(X_test, y_test)\n",
    "print(f'Test {mse=}')"
   ]
  }
 ],
 "metadata": {
  "kernelspec": {
   "display_name": "Python 3",
   "language": "python",
   "name": "python3"
  },
  "language_info": {
   "codemirror_mode": {
    "name": "ipython",
    "version": 3
   },
   "file_extension": ".py",
   "mimetype": "text/x-python",
   "name": "python",
   "nbconvert_exporter": "python",
   "pygments_lexer": "ipython3",
   "version": "3.11.3"
  },
  "orig_nbformat": 4
 },
 "nbformat": 4,
 "nbformat_minor": 2
}
